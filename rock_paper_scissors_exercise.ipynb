{
  "nbformat": 4,
  "nbformat_minor": 0,
  "metadata": {
    "colab": {
      "provenance": [],
      "authorship_tag": "ABX9TyMN8j2xhhruCaSthdxzf0Hb",
      "include_colab_link": true
    },
    "kernelspec": {
      "name": "python3",
      "display_name": "Python 3"
    },
    "language_info": {
      "name": "python"
    }
  },
  "cells": [
    {
      "cell_type": "markdown",
      "metadata": {
        "id": "view-in-github",
        "colab_type": "text"
      },
      "source": [
        "<a href=\"https://colab.research.google.com/github/Naomi26pc/Phyton/blob/main/rock_paper_scissors_exercise.ipynb\" target=\"_parent\"><img src=\"https://colab.research.google.com/assets/colab-badge.svg\" alt=\"Open In Colab\"/></a>"
      ]
    },
    {
      "cell_type": "code",
      "execution_count": null,
      "metadata": {
        "id": "VgDc2EYK2d5N"
      },
      "outputs": [],
      "source": [
        "import  random\n",
        "user_choice = (input(\"rock, paper, scissors: \"))\n",
        "pc_choice = random. choice (['rock', 'paper', 'scissors'])\n",
        "print(f'PC chose: {pc_choice}')\n",
        "if user_choice == pc_choice:\n",
        "  print( 'tie')\n",
        "elif user_choice == 'paper':\n",
        "  if pc_choice == 'rock':\n",
        "    print( 'user wins')\n",
        "  else:\n",
        "    print( 'pc wins')\n",
        "elif user_choice == 'rock':\n",
        "  if pc_choice == 'scissors':\n",
        "    print( 'user wins')\n",
        "  else:\n",
        "    print('PC wins')\n",
        "elif user_choice == 'scissors':\n",
        "  if pc_choice == 'rock':\n",
        "    print( 'user wins')\n",
        "  else:\n",
        "    print ('PC wins')\n"
      ]
    }
  ]
}