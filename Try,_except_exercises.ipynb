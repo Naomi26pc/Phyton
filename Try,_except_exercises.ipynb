{
  "nbformat": 4,
  "nbformat_minor": 0,
  "metadata": {
    "colab": {
      "provenance": [],
      "authorship_tag": "ABX9TyN9NrJju2U3j4CID3EkH1Ck",
      "include_colab_link": true
    },
    "kernelspec": {
      "name": "python3",
      "display_name": "Python 3"
    },
    "language_info": {
      "name": "python"
    }
  },
  "cells": [
    {
      "cell_type": "markdown",
      "metadata": {
        "id": "view-in-github",
        "colab_type": "text"
      },
      "source": [
        "<a href=\"https://colab.research.google.com/github/Naomi26pc/Phyton/blob/main/Try%2C_except_exercises.ipynb\" target=\"_parent\"><img src=\"https://colab.research.google.com/assets/colab-badge.svg\" alt=\"Open In Colab\"/></a>"
      ]
    },
    {
      "cell_type": "code",
      "execution_count": null,
      "metadata": {
        "id": "K-vXYGepcQQb"
      },
      "outputs": [],
      "source": [
        "#April 10th\n",
        "\n",
        "\n",
        "def average(alist):\n",
        "  try:\n",
        "    return sum(alist) / len(alist)\n",
        "  except ZeroDivisionError:\n",
        "    print('The list is empty!')\n",
        "    return[]\n",
        "  except TypeError:\n",
        "    print('The list must be numeric-only')\n",
        "    return float('nan')\n",
        "  except NameError:\n",
        "    print()\n",
        "\n",
        "a = average([])\n",
        "print(a)"
      ]
    }
  ]
}