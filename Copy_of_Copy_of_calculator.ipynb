{
  "cells": [
    {
      "cell_type": "markdown",
      "metadata": {
        "id": "view-in-github",
        "colab_type": "text"
      },
      "source": [
        "<a href=\"https://colab.research.google.com/github/Naomi26pc/Python/blob/main/Copy_of_Copy_of_calculator.ipynb\" target=\"_parent\"><img src=\"https://colab.research.google.com/assets/colab-badge.svg\" alt=\"Open In Colab\"/></a>"
      ]
    },
    {
      "cell_type": "code",
      "execution_count": null,
      "metadata": {
        "colab": {
          "background_save": true,
          "base_uri": "https://localhost:8080/"
        },
        "id": "0PNjrZSY5CCG",
        "outputId": "23a652ba-c095-4959-d5b6-880dfe933eb6"
      },
      "outputs": [
        {
          "name": "stdout",
          "output_type": "stream",
          "text": [
            "Choose an operation\n",
            "1. Add\n",
            "2. Subtract\n",
            "3. Multiply\n",
            "4. Divide\n"
          ]
        }
      ],
      "source": [
        "def add(x, y):\n",
        "    return x + y\n",
        "\n",
        "def subtract(x, y):\n",
        "    return x - y\n",
        "\n",
        "def multiply(x, y):\n",
        "    return x * y\n",
        "\n",
        "def divide(x, y):\n",
        "    return x / y if y != 0 else \"Error!\"\n",
        "\n",
        "print(\"Choose an operation\")\n",
        "print(\"1. Add\")\n",
        "print(\"2. Subtract\")\n",
        "print(\"3. Multiply\")\n",
        "print(\"4. Divide\")\n",
        "\n",
        "choice = input(\"Enter your choice (1/2/3/4): \")\n",
        "\n",
        "num1 = float(input(\"Enter first number: \"))\n",
        "num2 = float(input(\"Enter second number: \"))\n",
        "\n",
        "if choice == '1':\n",
        "    print(\"Result:\", add(num1, num2))\n",
        "\n",
        "elif choice == '2':\n",
        "    print(\"Result:\", subtract(num1, num2))\n",
        "\n",
        "elif choice == '3':\n",
        "    print(\"Result:\", multiply(num1, num2))\n",
        "\n",
        "elif choice == '4':\n",
        "    print(\"Result:\", divide(num1, num2))\n",
        "\n",
        "else:\n",
        "    print(\"Invalid choice\")\n"
      ]
    },
    {
      "cell_type": "markdown",
      "metadata": {
        "id": "fDBF6Qnu5GxG"
      },
      "source": [
        "3 variable\n",
        "- 2 numbers (int or float)\n",
        "- 1 operator\n",
        "IF STATEMENTS!!!\n",
        "have a conditional, use break\n",
        "if operator is not mathematical right:\n",
        "boolean opearator (ask for new input) | use \"continue\"\n"
      ]
    },
    {
      "cell_type": "code",
      "source": [
        "while True:\n",
        "  num1 = float(input('Enter first value: '))\n",
        "  num2 = float(input('Enter second value: '))\n",
        "  operator = input('Enter the operator: ')\n",
        "\n",
        "\n",
        "  if operator == '+':\n",
        "    answer = num1 + num2\n",
        "  elif operator == '-':\n",
        "    answer = num1 - num2\n",
        "  elif operator == '*':\n",
        "    answer = num1 * num2\n",
        "  elif operator == '/':\n",
        "    answer = num1 / num2\n",
        "  elif operator == '//':\n",
        "    answer = num1 // num2\n",
        "  elif operator == '**':\n",
        "    answer = num1 ** num2\n",
        "  elif operator == '%':\n",
        "    answer = num1 % num2\n",
        "  else :\n",
        "    print('Invalid operator:', operator)\n",
        "    continue\n",
        "  print('Result: ', answer)\n",
        "\n",
        "\n"
      ],
      "metadata": {
        "colab": {
          "base_uri": "https://localhost:8080/"
        },
        "id": "n5ozPW6tGkjC",
        "outputId": "692d54dc-04b4-47a5-8d0f-58192fd025f0"
      },
      "execution_count": null,
      "outputs": [
        {
          "output_type": "stream",
          "name": "stdout",
          "text": [
            "Enter first value: 10\n",
            "Enter second value: 8\n",
            "Enter the operator: +\n",
            "Result:  18.0\n"
          ]
        }
      ]
    }
  ],
  "metadata": {
    "colab": {
      "provenance": [],
      "authorship_tag": "ABX9TyNqwMqaFPxpowMi2io4Lzb1",
      "include_colab_link": true
    },
    "kernelspec": {
      "display_name": "Python 3",
      "name": "python3"
    },
    "language_info": {
      "name": "python"
    }
  },
  "nbformat": 4,
  "nbformat_minor": 0
}