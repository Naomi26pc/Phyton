{
  "nbformat": 4,
  "nbformat_minor": 0,
  "metadata": {
    "colab": {
      "provenance": [],
      "authorship_tag": "ABX9TyPZAOfYpN6sEG+Ft/Dtuu8S",
      "include_colab_link": true
    },
    "kernelspec": {
      "name": "python3",
      "display_name": "Python 3"
    },
    "language_info": {
      "name": "python"
    }
  },
  "cells": [
    {
      "cell_type": "markdown",
      "metadata": {
        "id": "view-in-github",
        "colab_type": "text"
      },
      "source": [
        "<a href=\"https://colab.research.google.com/github/Naomi26pc/Phyton/blob/main/Date_ipynb.ipynb\" target=\"_parent\"><img src=\"https://colab.research.google.com/assets/colab-badge.svg\" alt=\"Open In Colab\"/></a>"
      ]
    },
    {
      "cell_type": "code",
      "execution_count": null,
      "metadata": {
        "colab": {
          "base_uri": "https://localhost:8080/"
        },
        "id": "kbgRQpPfNWCy",
        "outputId": "7cc7df40-2f2d-4ad7-c698-264d5f7092f3"
      },
      "outputs": [
        {
          "output_type": "stream",
          "name": "stdout",
          "text": [
            "Enter date (MM/DD/YYYY)08/26/2004\n",
            "08\n",
            "26\n",
            "2004\n"
          ]
        }
      ],
      "source": [
        "date = (input(\"Enter date (MM/DD/YYYY)\"))\n",
        "\n",
        "month = date [0:2:1]\n",
        "day = date [3:5:1]\n",
        "year = date[6:len(date)]\n",
        "\n",
        "print (f'{month}')\n",
        "print (f'{day}')\n",
        "print (f'{year}')"
      ]
    },
    {
      "cell_type": "markdown",
      "source": [
        "MM/DD/YYYY\n",
        "ENTER DATE: 02/21/2024\n",
        "MONTH:\n",
        "DATE:\n",
        "YEAR:\n",
        "use length"
      ],
      "metadata": {
        "id": "2rBBHULGNXMz"
      }
    }
  ]
}
