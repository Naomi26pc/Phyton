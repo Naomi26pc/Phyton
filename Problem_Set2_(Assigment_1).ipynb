{
  "nbformat": 4,
  "nbformat_minor": 0,
  "metadata": {
    "colab": {
      "provenance": [],
      "authorship_tag": "ABX9TyNBGvhCVjNZ09n0QnRIEnCs",
      "include_colab_link": true
    },
    "kernelspec": {
      "name": "python3",
      "display_name": "Python 3"
    },
    "language_info": {
      "name": "python"
    }
  },
  "cells": [
    {
      "cell_type": "markdown",
      "metadata": {
        "id": "view-in-github",
        "colab_type": "text"
      },
      "source": [
        "<a href=\"https://colab.research.google.com/github/Naomi26pc/Phyton/blob/main/Problem_Set2_(Assigment_1).ipynb\" target=\"_parent\"><img src=\"https://colab.research.google.com/assets/colab-badge.svg\" alt=\"Open In Colab\"/></a>"
      ]
    },
    {
      "cell_type": "code",
      "execution_count": null,
      "metadata": {
        "id": "3X9mEWJOlj99"
      },
      "outputs": [],
      "source": [
        "def getValues (n):\n",
        "  weights = []\n",
        "  if n < 3:\n",
        "    print ('Not enough weights')\n",
        "    return None\n",
        "  else:\n",
        "    for i in range (n):\n",
        "      weight = (float(int(input('Enter a weight: '))))\n",
        "      weights.append(weight)\n",
        "    return weights[2:]\n",
        "\n",
        "\n",
        "def calcAverage(alist):\n",
        "  print(sum(alist) / len(alist))"
      ]
    },
    {
      "cell_type": "code",
      "source": [
        "n_weights = int(input('Enter number of weights to be added to the list: '))\n",
        "L = getValues(n_weights)\n",
        "calcAverage(L)"
      ],
      "metadata": {
        "id": "mV8eTcDsl1ci"
      },
      "execution_count": null,
      "outputs": []
    }
  ]
}